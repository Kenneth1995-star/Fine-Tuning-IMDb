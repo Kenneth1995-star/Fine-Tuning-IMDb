{
 "cells": [
  {
   "cell_type": "code",
   "execution_count": 3,
   "id": "e5a89f7d-3548-4f68-a8d2-29807b811e2a",
   "metadata": {},
   "outputs": [],
   "source": [
    "# Step 1: Load IMDb dataset and tokenizer\n",
    "from datasets import load_dataset\n",
    "from transformers import DistilBertTokenizerFast\n",
    "\n",
    "# Load IMDb dataset\n",
    "dataset = load_dataset(\"imdb\")\n",
    "\n",
    "# Initialize tokenizer\n",
    "tokenizer = DistilBertTokenizerFast.from_pretrained(\"distilbert-base-uncased\")"
   ]
  },
  {
   "cell_type": "code",
   "execution_count": 4,
   "id": "4f9ec4e8-e6b4-4fbc-9e43-ccec8dc14432",
   "metadata": {},
   "outputs": [
    {
     "name": "stderr",
     "output_type": "stream",
     "text": [
      "Map: 100%|██████████| 25000/25000 [00:06<00:00, 3964.65 examples/s]\n"
     ]
    }
   ],
   "source": [
    "# Step 2: Tokenize the dataset\n",
    "def tokenize(batch):\n",
    "    return tokenizer(batch[\"text\"], truncation=True, padding=\"max_length\", max_length=256)\n",
    "\n",
    "tokenized_dataset = dataset.map(tokenize, batched=True)\n",
    "tokenized_dataset.set_format(type=\"torch\", columns=[\"input_ids\", \"attention_mask\", \"label\"])"
   ]
  },
  {
   "cell_type": "code",
   "execution_count": 13,
   "id": "ec561a8c-bdc7-4901-8817-cbffa39cf526",
   "metadata": {},
   "outputs": [
    {
     "name": "stdout",
     "output_type": "stream",
     "text": [
      "Balanced eval label distribution: [500 500]\n"
     ]
    }
   ],
   "source": [
    "# Step 3: Create a balanced evaluation set\n",
    "import random\n",
    "import numpy as np\n",
    "\n",
    "test_dataset = tokenized_dataset[\"test\"]\n",
    "labels = test_dataset[\"label\"]\n",
    "\n",
    "# Get indices for each class\n",
    "class0_indices = [i for i, label in enumerate(labels) if label == 0]\n",
    "class1_indices = [i for i, label in enumerate(labels) if label == 1]\n",
    "\n",
    "# Shuffle and select 500 samples from each class\n",
    "random.seed(42)\n",
    "random.shuffle(class0_indices)\n",
    "random.shuffle(class1_indices)\n",
    "\n",
    "selected_indices = class0_indices[:500] + class1_indices[:500]\n",
    "random.shuffle(selected_indices)\n",
    "\n",
    "# Subset the evaluation set\n",
    "balanced_eval_dataset = test_dataset.select(selected_indices)\n",
    "\n",
    "# Diagnostic print to confirm balance\n",
    "print(\"Balanced eval label distribution:\", np.bincount(balanced_eval_dataset[\"label\"].numpy()))"
   ]
  },
  {
   "cell_type": "code",
   "execution_count": 15,
   "id": "f899f93d-1d78-4060-be3c-e7d55088e6e2",
   "metadata": {},
   "outputs": [
    {
     "name": "stderr",
     "output_type": "stream",
     "text": [
      "Some weights of DistilBertForSequenceClassification were not initialized from the model checkpoint at distilbert-base-uncased and are newly initialized: ['classifier.bias', 'classifier.weight', 'pre_classifier.bias', 'pre_classifier.weight']\n",
      "You should probably TRAIN this model on a down-stream task to be able to use it for predictions and inference.\n",
      "C:\\Users\\kerne\\anaconda3\\envs\\standard\\lib\\site-packages\\transformers\\training_args.py:1474: FutureWarning: `evaluation_strategy` is deprecated and will be removed in version 4.46 of 🤗 Transformers. Use `eval_strategy` instead\n",
      "  warnings.warn(\n"
     ]
    },
    {
     "data": {
      "text/html": [
       "\n",
       "    <div>\n",
       "      \n",
       "      <progress value='939' max='939' style='width:300px; height:20px; vertical-align: middle;'></progress>\n",
       "      [939/939 2:08:35, Epoch 3/3]\n",
       "    </div>\n",
       "    <table border=\"1\" class=\"dataframe\">\n",
       "  <thead>\n",
       " <tr style=\"text-align: left;\">\n",
       "      <th>Epoch</th>\n",
       "      <th>Training Loss</th>\n",
       "      <th>Validation Loss</th>\n",
       "      <th>Accuracy</th>\n",
       "      <th>F1</th>\n",
       "      <th>Precision</th>\n",
       "      <th>Recall</th>\n",
       "    </tr>\n",
       "  </thead>\n",
       "  <tbody>\n",
       "    <tr>\n",
       "      <td>1</td>\n",
       "      <td>0.335200</td>\n",
       "      <td>0.270635</td>\n",
       "      <td>0.885000</td>\n",
       "      <td>0.888023</td>\n",
       "      <td>0.865275</td>\n",
       "      <td>0.912000</td>\n",
       "    </tr>\n",
       "    <tr>\n",
       "      <td>2</td>\n",
       "      <td>0.166900</td>\n",
       "      <td>0.344068</td>\n",
       "      <td>0.894000</td>\n",
       "      <td>0.893788</td>\n",
       "      <td>0.895582</td>\n",
       "      <td>0.892000</td>\n",
       "    </tr>\n",
       "    <tr>\n",
       "      <td>3</td>\n",
       "      <td>0.065600</td>\n",
       "      <td>0.450358</td>\n",
       "      <td>0.892000</td>\n",
       "      <td>0.891566</td>\n",
       "      <td>0.895161</td>\n",
       "      <td>0.888000</td>\n",
       "    </tr>\n",
       "  </tbody>\n",
       "</table><p>"
      ],
      "text/plain": [
       "<IPython.core.display.HTML object>"
      ]
     },
     "metadata": {},
     "output_type": "display_data"
    },
    {
     "data": {
      "text/html": [
       "\n",
       "    <div>\n",
       "      \n",
       "      <progress value='63' max='63' style='width:300px; height:20px; vertical-align: middle;'></progress>\n",
       "      [63/63 03:16]\n",
       "    </div>\n",
       "    "
      ],
      "text/plain": [
       "<IPython.core.display.HTML object>"
      ]
     },
     "metadata": {},
     "output_type": "display_data"
    },
    {
     "name": "stdout",
     "output_type": "stream",
     "text": [
      "Final Evaluation Results: {'eval_loss': 0.45035770535469055, 'eval_accuracy': 0.892, 'eval_f1': 0.891566265060241, 'eval_precision': 0.8951612903225806, 'eval_recall': 0.888, 'eval_runtime': 200.1546, 'eval_samples_per_second': 4.996, 'eval_steps_per_second': 0.315, 'epoch': 3.0}\n"
     ]
    }
   ],
   "source": [
    "# Step 4: Load model and define compute_metrics\n",
    "from transformers import DistilBertForSequenceClassification, Trainer, TrainingArguments\n",
    "from sklearn.metrics import accuracy_score, precision_recall_fscore_support\n",
    "import torch\n",
    "\n",
    "finetune_model = DistilBertForSequenceClassification.from_pretrained(\"distilbert-base-uncased\", num_labels=2)\n",
    "\n",
    "def compute_metrics(p):\n",
    "    preds = torch.argmax(torch.tensor(p.predictions), dim=1)\n",
    "    labels = p.label_ids\n",
    "    precision, recall, f1, _ = precision_recall_fscore_support(labels, preds, average='binary', zero_division=0)\n",
    "    acc = accuracy_score(labels, preds)\n",
    "    return {\"accuracy\": acc, \"f1\": f1, \"precision\": precision, \"recall\": recall}\n",
    "\n",
    "# Step 5: Define training arguments\n",
    "training_args = TrainingArguments(\n",
    "    output_dir=\"./results_finetuned\",\n",
    "    evaluation_strategy=\"epoch\",\n",
    "    save_strategy=\"epoch\",\n",
    "    per_device_train_batch_size=16,\n",
    "    per_device_eval_batch_size=16,\n",
    "    num_train_epochs=3,\n",
    "    weight_decay=0.01,\n",
    "    logging_dir=\"./logs\",\n",
    "    logging_steps=100\n",
    ")\n",
    "\n",
    "# Step 6: Trainer setup\n",
    "trainer = Trainer(\n",
    "    model=finetune_model,\n",
    "    args=training_args,\n",
    "    train_dataset=tokenized_dataset[\"train\"].shuffle(seed=42).select(range(5000)),  # small sample for faster training\n",
    "    eval_dataset=balanced_eval_dataset,\n",
    "    compute_metrics=compute_metrics,\n",
    ")\n",
    "\n",
    "# Step 7: Train and evaluate\n",
    "trainer.train()\n",
    "results_finetuned = trainer.evaluate()\n",
    "print(\"Final Evaluation Results:\", results_finetuned)\n"
   ]
  },
  {
   "cell_type": "code",
   "execution_count": 17,
   "id": "b91b1d58-6697-4416-900e-3ac13bd5ee16",
   "metadata": {},
   "outputs": [
    {
     "name": "stderr",
     "output_type": "stream",
     "text": [
      "Map: 100%|██████████| 50000/50000 [00:12<00:00, 3995.49 examples/s]\n",
      "100%|██████████| 125/125 [05:27<00:00,  2.62s/it]\n",
      "100%|██████████| 63/63 [02:47<00:00,  2.66s/it]\n"
     ]
    },
    {
     "name": "stdout",
     "output_type": "stream",
     "text": [
      "              precision    recall  f1-score   support\n",
      "\n",
      "           0     0.8776    0.8398    0.8583       512\n",
      "           1     0.8392    0.8770    0.8577       488\n",
      "\n",
      "    accuracy                         0.8580      1000\n",
      "   macro avg     0.8584    0.8584    0.8580      1000\n",
      "weighted avg     0.8588    0.8580    0.8580      1000\n",
      "\n"
     ]
    }
   ],
   "source": [
    "# Step 1: Imports\n",
    "from transformers import DistilBertModel, DistilBertTokenizerFast\n",
    "from datasets import load_dataset\n",
    "from sklearn.linear_model import LogisticRegression\n",
    "from sklearn.metrics import classification_report\n",
    "from sklearn.model_selection import train_test_split\n",
    "import torch\n",
    "from torch.utils.data import DataLoader\n",
    "import numpy as np\n",
    "from tqdm import tqdm\n",
    "\n",
    "# Step 2: Load IMDb dataset and tokenizer\n",
    "dataset = load_dataset(\"imdb\")\n",
    "tokenizer = DistilBertTokenizerFast.from_pretrained(\"distilbert-base-uncased\")\n",
    "\n",
    "# Step 3: Tokenize (same as before)\n",
    "def tokenize(batch):\n",
    "    return tokenizer(batch[\"text\"], truncation=True, padding=\"max_length\", max_length=256)\n",
    "\n",
    "tokenized_dataset = dataset.map(tokenize, batched=True)\n",
    "tokenized_dataset.set_format(type=\"torch\", columns=[\"input_ids\", \"attention_mask\", \"label\"])\n",
    "\n",
    "# Step 4: Load frozen DistilBERT model (no classification head)\n",
    "bert = DistilBertModel.from_pretrained(\"distilbert-base-uncased\")\n",
    "bert.eval()  # Freeze weights\n",
    "\n",
    "# Step 5: Extract embeddings (e.g., mean pooled CLS token)\n",
    "def extract_embeddings(dataset_split):\n",
    "    dataloader = DataLoader(dataset_split, batch_size=16)\n",
    "    embeddings, labels = [], []\n",
    "\n",
    "    with torch.no_grad():\n",
    "        for batch in tqdm(dataloader):\n",
    "            input_ids = batch[\"input_ids\"]\n",
    "            attention_mask = batch[\"attention_mask\"]\n",
    "            outputs = bert(input_ids=input_ids, attention_mask=attention_mask)\n",
    "            # Mean pooling\n",
    "            mean_embeddings = outputs.last_hidden_state.mean(dim=1)\n",
    "            embeddings.append(mean_embeddings.numpy())\n",
    "            labels.append(batch[\"label\"].numpy())\n",
    "\n",
    "    return np.concatenate(embeddings), np.concatenate(labels)\n",
    "\n",
    "# Step 6: Use smaller subset (to fit faster)\n",
    "train_subset = tokenized_dataset[\"train\"].shuffle(seed=42).select(range(2000))\n",
    "test_subset = tokenized_dataset[\"test\"].shuffle(seed=42).select(range(1000))\n",
    "\n",
    "X_train, y_train = extract_embeddings(train_subset)\n",
    "X_test, y_test = extract_embeddings(test_subset)\n",
    "\n",
    "# Step 7: Train classifier (e.g., Logistic Regression)\n",
    "clf = LogisticRegression(max_iter=1000)\n",
    "clf.fit(X_train, y_train)\n",
    "\n",
    "# Step 8: Evaluate\n",
    "y_pred = clf.predict(X_test)\n",
    "print(classification_report(y_test, y_pred, digits=4))"
   ]
  },
  {
   "cell_type": "code",
   "execution_count": null,
   "id": "1943ef76-56ae-4359-8b14-4453747081ec",
   "metadata": {},
   "outputs": [],
   "source": []
  }
 ],
 "metadata": {
  "kernelspec": {
   "display_name": "Python (standard)",
   "language": "python",
   "name": "standard"
  },
  "language_info": {
   "codemirror_mode": {
    "name": "ipython",
    "version": 3
   },
   "file_extension": ".py",
   "mimetype": "text/x-python",
   "name": "python",
   "nbconvert_exporter": "python",
   "pygments_lexer": "ipython3",
   "version": "3.10.8"
  }
 },
 "nbformat": 4,
 "nbformat_minor": 5
}
